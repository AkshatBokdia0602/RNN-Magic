{
  "cells": [
    {
      "cell_type": "markdown",
      "metadata": {
        "id": "YLXb0b7AsTE3"
      },
      "source": [
        "# Loading the Libraries"
      ]
    },
    {
      "cell_type": "code",
      "execution_count": null,
      "metadata": {
        "id": "ANRfuAOtsVNh"
      },
      "outputs": [],
      "source": [
        "import pandas as pd\n",
        "import numpy as np\n",
        "import matplotlib.pyplot as plt\n",
        "import string\n",
        "from collections import Counter"
      ]
    },
    {
      "cell_type": "code",
      "execution_count": null,
      "metadata": {
        "id": "CL9YDd6oOMB-"
      },
      "outputs": [],
      "source": [
        "import tensorflow as tf\n",
        "from tensorflow.keras.utils import to_categorical"
      ]
    },
    {
      "cell_type": "markdown",
      "metadata": {
        "id": "brMJCDzMsfeW"
      },
      "source": [
        "# Loading the Dataset"
      ]
    },
    {
      "cell_type": "code",
      "execution_count": null,
      "metadata": {
        "id": "6B2BHRZiscGR"
      },
      "outputs": [],
      "source": [
        "data = pd.read_csv(\"Harry_Potter_Spells.csv\", sep = ';')"
      ]
    },
    {
      "cell_type": "code",
      "execution_count": null,
      "metadata": {
        "id": "xNtnQh9uONSZ"
      },
      "outputs": [],
      "source": [
        "data.head()"
      ]
    },
    {
      "cell_type": "code",
      "execution_count": null,
      "metadata": {
        "colab": {
          "base_uri": "https://localhost:8080/"
        },
        "id": "N0OS_nl3h3Wv",
        "outputId": "f143e5c8-17c9-4236-e574-5b8be47c95ff"
      },
      "outputs": [],
      "source": [
        "data[\"Incantation\"].isna().sum()"
      ]
    },
    {
      "cell_type": "code",
      "execution_count": null,
      "metadata": {
        "id": "5YwwOh-SsnjK"
      },
      "outputs": [],
      "source": [
        "data.dropna(subset = ['Incantation'], inplace = True)"
      ]
    },
    {
      "cell_type": "code",
      "execution_count": null,
      "metadata": {
        "colab": {
          "base_uri": "https://localhost:8080/"
        },
        "id": "GMwrFEO9s4Kr",
        "outputId": "5507a4f0-ec26-43a3-f5dc-d6595e7b0e6f"
      },
      "outputs": [],
      "source": [
        "data[\"Incantation\"].isna().sum()"
      ]
    },
    {
      "cell_type": "code",
      "execution_count": null,
      "metadata": {
        "id": "CGiGI8natHl7"
      },
      "outputs": [],
      "source": [
        "L = data[\"Incantation\"][data[\"Incantation\"] != 'Unknown'].tolist()\n",
        "L.sort()\n",
        "df = pd.DataFrame(L, columns = [\"Spells\"])"
      ]
    },
    {
      "cell_type": "code",
      "execution_count": null,
      "metadata": {
        "colab": {
          "base_uri": "https://localhost:8080/",
          "height": 206
        },
        "id": "MHb1X8oOSbVz",
        "outputId": "ff844111-4aa5-4979-e4bc-6fc0633965a7"
      },
      "outputs": [],
      "source": [
        "df.head()"
      ]
    },
    {
      "cell_type": "code",
      "execution_count": null,
      "metadata": {
        "id": "xZpbtaDQKZo4"
      },
      "outputs": [],
      "source": [
        "with open('my_file.txt', 'w') as f_out:\n",
        "    for i in range(df.shape[0]):\n",
        "        content = df.iloc[i, 0]\n",
        "        f_out.write(content + \"\\n\")"
      ]
    },
    {
      "cell_type": "markdown",
      "metadata": {
        "id": "PMeR_fPZwKUc"
      },
      "source": [
        "# Data Visualization"
      ]
    },
    {
      "cell_type": "code",
      "execution_count": null,
      "metadata": {
        "colab": {
          "base_uri": "https://localhost:8080/"
        },
        "id": "DG46_b04MxGI",
        "outputId": "9e4a954f-296e-404d-e26a-c29996351264"
      },
      "outputs": [],
      "source": [
        "data = open('my_file.txt', 'r').read()\n",
        "data = data.lower()\n",
        "data = data.replace(\"\\xa0\", \"\")\n",
        "chars = list(set(data))\n",
        "data_size, vocab_size = len(data), len(chars)\n",
        "print(f'There are {data_size} total characters and {vocab_size} unique characters in our data.')"
      ]
    },
    {
      "cell_type": "code",
      "execution_count": null,
      "metadata": {
        "colab": {
          "base_uri": "https://localhost:8080/",
          "height": 449
        },
        "id": "d3KbRg2vh1PM",
        "outputId": "7000cb71-34de-4105-db0d-e96aaad11b49"
      },
      "outputs": [],
      "source": [
        "lengths = [len(i) for i in data.split(\"\\n\")[:-1]]\n",
        "d = Counter(lengths)\n",
        "plt.bar(d.keys(), d.values())\n",
        "plt.xlabel(\"Length of Spell\")\n",
        "plt.ylabel(\"Frequency\")\n",
        "plt.show()"
      ]
    },
    {
      "cell_type": "code",
      "execution_count": null,
      "metadata": {
        "colab": {
          "base_uri": "https://localhost:8080/"
        },
        "id": "wxSiXteQvvGa",
        "outputId": "504001a1-a2d5-4c04-e7f3-084cdf4364d9"
      },
      "outputs": [],
      "source": [
        "res = {}\n",
        "for keys in data:\n",
        "    res[keys] = res.get(keys, 0) + 1\n",
        "res[\"z\"] = 0\n",
        "res = dict(sorted(res.items()))\n",
        "res.pop(\"\\n\")"
      ]
    },
    {
      "cell_type": "code",
      "execution_count": null,
      "metadata": {
        "colab": {
          "base_uri": "https://localhost:8080/",
          "height": 449
        },
        "id": "gitw26_ivv7b",
        "outputId": "89bf648e-bd99-4d39-aa13-15da7e54e9bc"
      },
      "outputs": [],
      "source": [
        "plt.bar(res.keys(), res.values())\n",
        "plt.xlabel(\"Character\")\n",
        "plt.ylabel(\"Frequency\")\n",
        "plt.show()"
      ]
    },
    {
      "cell_type": "markdown",
      "metadata": {
        "id": "fxZifvGTwICM"
      },
      "source": [
        "# Processing the Text - Encoding"
      ]
    },
    {
      "cell_type": "code",
      "execution_count": null,
      "metadata": {
        "id": "iPx7gsEMbdUx"
      },
      "outputs": [],
      "source": [
        "string.punctuation = string.punctuation +'“'+'”'+'-'+'’'+'‘'+'—'\n",
        "string.punctuation = string.punctuation.replace('.', '')\n",
        "file_nl_removed = \"\"\n",
        "for line in data:\n",
        "  line_nl_removed = line.replace(\"\\n\", \" \")\n",
        "  file_nl_removed += line_nl_removed\n",
        "\n",
        "file_p = \"\".join([char for char in file_nl_removed if char not in string.punctuation])\n",
        "preprocessed_text = file_p.lower()"
      ]
    },
    {
      "cell_type": "code",
      "execution_count": null,
      "metadata": {
        "id": "5eG5sawGb4Sr"
      },
      "outputs": [],
      "source": [
        "raw_text = preprocessed_text\n",
        "\n",
        "chars = sorted(list(set(raw_text)))\n",
        "chars.extend([\"z\", \"\\n\"])\n",
        "char_to_int = {c : i for i, c in enumerate(chars)}\n",
        "int_to_char = {i : c for i, c in enumerate(chars)}\n",
        "\n",
        "n_chars = len(raw_text)\n",
        "n_vocab = len(chars)"
      ]
    },
    {
      "cell_type": "code",
      "execution_count": null,
      "metadata": {
        "id": "EegdE8mab4Xr"
      },
      "outputs": [],
      "source": [
        "seq_length = 7\n",
        "dataX = []\n",
        "dataY = []\n",
        "\n",
        "for i in range(0, n_chars - seq_length, 1):\n",
        "    seq_in = raw_text[i:i + seq_length]\n",
        "    seq_out = raw_text[i + seq_length]\n",
        "\n",
        "    dataX.append([char_to_int[char] for char in seq_in])\n",
        "    dataY.append(char_to_int[seq_out])\n",
        "\n",
        "n_patterns = len(dataX)\n",
        "print (\"Total Patterns: \", n_patterns)\n",
        "\n",
        "X = np.reshape(dataX, (n_patterns, seq_length, 1))\n",
        "y = to_categorical(dataY)"
      ]
    },
    {
      "cell_type": "markdown",
      "metadata": {
        "id": "DP1Ajd8i2B2x"
      },
      "source": [
        "# Building and Training the RNN Model"
      ]
    },
    {
      "cell_type": "code",
      "execution_count": null,
      "metadata": {
        "id": "nl8Eqfmkc9eS"
      },
      "outputs": [],
      "source": [
        "embedding_dim = 128\n",
        "max_length = 7\n",
        "model = tf.keras.Sequential()\n",
        "model.add(tf.keras.layers.Embedding(n_vocab, embedding_dim, input_length = max_length))\n",
        "model.add(tf.keras.layers.Bidirectional(tf.keras.layers.LSTM(128, return_sequences = True)))\n",
        "model.add(tf.keras.layers.Dropout(0.2))\n",
        "model.add(tf.keras.layers.Bidirectional(tf.keras.layers.LSTM(256)))\n",
        "model.add(tf.keras.layers.Dropout(0.2))\n",
        "model.add(tf.keras.layers.Dense(y.shape[1], activation = 'softmax'))"
      ]
    },
    {
      "cell_type": "code",
      "execution_count": null,
      "metadata": {
        "id": "mysP0DwRZIcf"
      },
      "outputs": [],
      "source": [
        "model.compile(loss = 'categorical_crossentropy', optimizer = 'adam')"
      ]
    },
    {
      "cell_type": "code",
      "execution_count": null,
      "metadata": {
        "id": "SiMdeLUIZJp3"
      },
      "outputs": [],
      "source": [
        "model.summary()"
      ]
    },
    {
      "cell_type": "code",
      "execution_count": null,
      "metadata": {
        "id": "mGeqR1MqdfQt"
      },
      "outputs": [],
      "source": [
        "history = model.fit(X, y, epochs = 100, batch_size = 128)"
      ]
    },
    {
      "cell_type": "code",
      "execution_count": null,
      "metadata": {
        "id": "qDitQftfoOEl"
      },
      "outputs": [],
      "source": [
        "plt.plot(history.history['loss'])\n",
        "plt.title('Model loss')\n",
        "plt.ylabel('Loss')\n",
        "plt.xlabel('Epoch')\n",
        "plt.show()"
      ]
    },
    {
      "cell_type": "markdown",
      "metadata": {},
      "source": [
        "# Creating New Spells"
      ]
    },
    {
      "cell_type": "code",
      "execution_count": null,
      "metadata": {
        "id": "b7uoMPhOdnYf"
      },
      "outputs": [],
      "source": [
        "def predict_next_n_chars(pattern, n):\n",
        "    for i in range(n):\n",
        "        x = np.reshape(pattern, (1, len(pattern), 1))\n",
        "        prediction = model.predict(x, verbose = 0)\n",
        "        print(int_to_char[np.argmax(prediction)], end = '')\n",
        "        seq_in = [int_to_char[value] for value in pattern]\n",
        "        pattern.append(np.argmax(prediction))\n",
        "        pattern = pattern[1 : len(pattern)]\n",
        "    return pattern"
      ]
    },
    {
      "cell_type": "code",
      "execution_count": null,
      "metadata": {
        "colab": {
          "base_uri": "https://localhost:8080/"
        },
        "id": "9uBBgmFydna-",
        "outputId": "2fa31171-51d5-4fc2-eff0-0af45c62b4d0"
      },
      "outputs": [],
      "source": [
        "length = 15\n",
        "count = 10\n",
        "spells = []\n",
        "for i in range(count):\n",
        "    start = np.random.randint(0, len(dataX) - 1)\n",
        "    pattern = dataX[start]\n",
        "    spell = predict_next_n_chars(pattern, length)\n",
        "    spells.append(spell)\n",
        "    print(\"\\n\")"
      ]
    }
  ],
  "metadata": {
    "colab": {
      "collapsed_sections": [
        "YLXb0b7AsTE3",
        "brMJCDzMsfeW",
        "PMeR_fPZwKUc",
        "fxZifvGTwICM"
      ],
      "provenance": []
    },
    "kernelspec": {
      "display_name": "Python 3",
      "name": "python3"
    },
    "language_info": {
      "name": "python"
    }
  },
  "nbformat": 4,
  "nbformat_minor": 0
}
